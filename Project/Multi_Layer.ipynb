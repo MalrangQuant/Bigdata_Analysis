{
 "cells": [
  {
   "cell_type": "markdown",
   "metadata": {},
   "source": [
    "# NN Feature"
   ]
  },
  {
   "cell_type": "code",
   "execution_count": 1,
   "metadata": {},
   "outputs": [],
   "source": [
    "import numpy as np\n",
    "import pandas as pd\n",
    "import tensorflow as tf\n",
    "import tensorflow.keras.backend as K\n",
    "import matplotlib.pyplot as plt\n",
    "import pandas as pd\n",
    "\n",
    "from tensorflow import keras\n",
    "from keras.models import Model\n",
    "from sklearn.preprocessing import StandardScaler\n"
   ]
  },
  {
   "cell_type": "code",
   "execution_count": 2,
   "metadata": {},
   "outputs": [
    {
     "name": "stdout",
     "output_type": "stream",
     "text": [
      "Metal device set to: Apple M1\n",
      "\n",
      "systemMemory: 16.00 GB\n",
      "maxCacheSize: 5.33 GB\n",
      "\n"
     ]
    },
    {
     "name": "stderr",
     "output_type": "stream",
     "text": [
      "2022-11-22 18:02:47.329821: I tensorflow/core/common_runtime/pluggable_device/pluggable_device_factory.cc:305] Could not identify NUMA node of platform GPU ID 0, defaulting to 0. Your kernel may not have been built with NUMA support.\n",
      "2022-11-22 18:02:47.330040: I tensorflow/core/common_runtime/pluggable_device/pluggable_device_factory.cc:271] Created TensorFlow device (/job:localhost/replica:0/task:0/device:GPU:0 with 0 MB memory) -> physical PluggableDevice (device: 0, name: METAL, pci bus id: <undefined>)\n"
     ]
    },
    {
     "name": "stdout",
     "output_type": "stream",
     "text": [
      "Model: \"model\"\n",
      "_________________________________________________________________\n",
      "Layer (type)                 Output Shape              Param #   \n",
      "=================================================================\n",
      "input_1 (InputLayer)         [(None, 397)]             0         \n",
      "_________________________________________________________________\n",
      "dense (Dense)                (None, 198)               78804     \n",
      "_________________________________________________________________\n",
      "dense_1 (Dense)              (None, 99)                19701     \n",
      "_________________________________________________________________\n",
      "dense_2 (Dense)              (None, 1)                 100       \n",
      "=================================================================\n",
      "Total params: 98,605\n",
      "Trainable params: 98,605\n",
      "Non-trainable params: 0\n",
      "_________________________________________________________________\n"
     ]
    },
    {
     "name": "stderr",
     "output_type": "stream",
     "text": [
      "2022-11-22 18:02:47.994797: W tensorflow/core/platform/profile_utils/cpu_utils.cc:128] Failed to get CPU frequency: 0 Hz\n",
      "2022-11-22 18:02:48.138289: I tensorflow/core/grappler/optimizers/custom_graph_optimizer_registry.cc:112] Plugin optimizer for device_type GPU is enabled.\n"
     ]
    },
    {
     "name": "stdout",
     "output_type": "stream",
     "text": [
      "Epoch 1/1000\n",
      "599/599 [==============================] - ETA: 0s - loss: 53.8095"
     ]
    },
    {
     "name": "stderr",
     "output_type": "stream",
     "text": [
      "2022-11-22 18:02:54.280624: I tensorflow/core/grappler/optimizers/custom_graph_optimizer_registry.cc:112] Plugin optimizer for device_type GPU is enabled.\n"
     ]
    },
    {
     "name": "stdout",
     "output_type": "stream",
     "text": [
      "599/599 [==============================] - 7s 9ms/step - loss: 53.8095 - val_loss: 23.2203\n",
      "Epoch 2/1000\n",
      "187/599 [========>.....................] - ETA: 2s - loss: 28.3957"
     ]
    }
   ],
   "source": [
    "def rmspe(y_true, y_pred):\n",
    "    return K.sqrt(K.mean(K.square((y_true-y_pred)/y_true)))\n",
    "\n",
    "X_train = pd.read_pickle('./397/X_train_tf.pkl').astype(float)\n",
    "y_train = pd.read_pickle('./397/y_train_tf.pkl').astype(float)\n",
    "X_val = pd.read_pickle('./397/X_val_tf.pkl').astype(float)\n",
    "y_val = pd.read_pickle('./397/y_val_tf.pkl').astype(float)\n",
    "X_test = pd.read_pickle('./397/X_test_tf.pkl').astype(float)\n",
    "y_test = pd.read_pickle('./397/y_test_tf.pkl').astype(float)\n",
    "\n",
    "scaler = StandardScaler()\n",
    "X_train = scaler.fit_transform(X_train)\n",
    "X_val = scaler.fit_transform(X_val)\n",
    "X_test = scaler.fit_transform(X_test)\n",
    "\n",
    "inputs= tf.keras.Input(\n",
    "        shape=(X_train.shape[1],)\n",
    "    )\n",
    "hidden1=tf.keras.layers.Dense(\n",
    "        units=int(np.round(X_train.shape[1]/2, 0)),\n",
    "        kernel_initializer='he_uniform',\n",
    "        activation='LeakyReLU'\n",
    "    )(inputs)\n",
    "hidden2=tf.keras.layers.Dense(\n",
    "        units=int(np.round(X_train.shape[1]/4, 0)),\n",
    "        kernel_initializer='he_uniform',\n",
    "        activation='LeakyReLU'\n",
    "    )(hidden1)\n",
    "    \n",
    "outputs=tf.keras.layers.Dense(\n",
    "        units=1,\n",
    ")(hidden2)\n",
    "\n",
    "model = Model(inputs, outputs)\n",
    "model.summary()\n",
    "\n",
    "model.compile(optimizer=tf.keras.optimizers.Adam(0.001),\n",
    "              loss=rmspe)\n",
    "\n",
    "rlr = tf.keras.callbacks.ReduceLROnPlateau(monitor='val_loss', factor=0.5, patience=3, min_delta=1e-5, min_lr=1e-5, verbose=1)\n",
    "es = tf.keras.callbacks.EarlyStopping(monitor='val_loss', min_delta=1e-5, patience=11, restore_best_weights=True, verbose=1)\n",
    "callback_list = [rlr, es]\n",
    "history = model.fit(X_train, y_train,\n",
    "                    batch_size=500, epochs=1000, verbose=1,\n",
    "                    validation_data=(X_val, y_val), callbacks=callback_list\n",
    ")\n",
    "\n",
    "print(pd.DataFrame(history.history))\n",
    "epochs=np.arange(1, len(history.history['loss'])+1)\n",
    "plt.plot(epochs, history.history['loss'], label='training loss')\n",
    "plt.plot(epochs, history.history['val_loss'], label='validation loss')\n",
    "plt.xlabel('Epochs')\n",
    "plt.ylabel('Loss')\n",
    "plt.legend()\n",
    "plt.show()\n",
    "\n",
    "epochs=np.arange(2, len(history.history['loss'])+1)\n",
    "plt.plot(epochs, history.history['loss'][1:], label='training loss')\n",
    "plt.plot(epochs, history.history['val_loss'][1:], label='validation loss')\n",
    "plt.xlabel('Epochs')\n",
    "plt.ylabel('Loss')\n",
    "plt.legend()\n",
    "plt.show()\n",
    "\n",
    "a = np.array([]).reshape(0, 1)\n",
    "\n",
    "for x in range (1, 42):\n",
    "    length = int((X_test.shape[0] / 41))\n",
    "    test = X_test[length*(x-1):length*(x)]\n",
    "    \n",
    "    y_hat = model.predict(test)\n",
    "    a = np.append(a, y_hat)\n",
    "\n",
    "result_rmspe = np.sqrt(np.mean(np.square(((a - y_test) / y_test)), axis=0))\n",
    "print('RMSPE :', result_rmspe)\n",
    "    "
   ]
  },
  {
   "cell_type": "markdown",
   "metadata": {},
   "source": [
    "# Base Feature"
   ]
  },
  {
   "cell_type": "code",
   "execution_count": 3,
   "metadata": {},
   "outputs": [
    {
     "name": "stdout",
     "output_type": "stream",
     "text": [
      "Model: \"model_1\"\n",
      "_________________________________________________________________\n",
      "Layer (type)                 Output Shape              Param #   \n",
      "=================================================================\n",
      "input_2 (InputLayer)         [(None, 335)]             0         \n",
      "_________________________________________________________________\n",
      "dense_3 (Dense)              (None, 168)               56448     \n",
      "_________________________________________________________________\n",
      "dense_4 (Dense)              (None, 84)                14196     \n",
      "_________________________________________________________________\n",
      "dense_5 (Dense)              (None, 1)                 85        \n",
      "=================================================================\n",
      "Total params: 70,729\n",
      "Trainable params: 70,729\n",
      "Non-trainable params: 0\n",
      "_________________________________________________________________\n",
      "Epoch 1/1000\n",
      " 10/599 [..............................] - ETA: 3s - loss: 421.2015  "
     ]
    },
    {
     "name": "stderr",
     "output_type": "stream",
     "text": [
      "2022-10-25 02:23:39.495964: I tensorflow/core/grappler/optimizers/custom_graph_optimizer_registry.cc:112] Plugin optimizer for device_type GPU is enabled.\n"
     ]
    },
    {
     "name": "stdout",
     "output_type": "stream",
     "text": [
      "598/599 [============================>.] - ETA: 0s - loss: 57.6953"
     ]
    },
    {
     "name": "stderr",
     "output_type": "stream",
     "text": [
      "2022-10-25 02:23:42.966538: I tensorflow/core/grappler/optimizers/custom_graph_optimizer_registry.cc:112] Plugin optimizer for device_type GPU is enabled.\n"
     ]
    },
    {
     "name": "stdout",
     "output_type": "stream",
     "text": [
      "599/599 [==============================] - 4s 6ms/step - loss: 57.6894 - val_loss: 26.2735\n",
      "Epoch 2/1000\n",
      "599/599 [==============================] - 4s 6ms/step - loss: 20.0381 - val_loss: 10.7381\n",
      "Epoch 3/1000\n",
      "599/599 [==============================] - 3s 6ms/step - loss: 9.6133 - val_loss: 7.4227\n",
      "Epoch 4/1000\n",
      "599/599 [==============================] - 3s 6ms/step - loss: 6.2952 - val_loss: 5.3667\n",
      "Epoch 5/1000\n",
      "599/599 [==============================] - 4s 6ms/step - loss: 4.6377 - val_loss: 4.2817\n",
      "Epoch 6/1000\n",
      "599/599 [==============================] - 4s 6ms/step - loss: 4.0275 - val_loss: 2.8599\n",
      "Epoch 7/1000\n",
      "599/599 [==============================] - 3s 6ms/step - loss: 3.7057 - val_loss: 2.4433\n",
      "Epoch 8/1000\n",
      "599/599 [==============================] - 3s 6ms/step - loss: 6.2298 - val_loss: 2.3900\n",
      "Epoch 9/1000\n",
      "599/599 [==============================] - 3s 6ms/step - loss: 3.6891 - val_loss: 2.8719\n",
      "Epoch 10/1000\n",
      "599/599 [==============================] - 3s 6ms/step - loss: 2.4763 - val_loss: 0.9512\n",
      "Epoch 11/1000\n",
      "599/599 [==============================] - 3s 6ms/step - loss: 2.8785 - val_loss: 1.6815\n",
      "Epoch 12/1000\n",
      "599/599 [==============================] - 3s 6ms/step - loss: 1.1707 - val_loss: 1.0553\n",
      "Epoch 13/1000\n",
      "599/599 [==============================] - ETA: 0s - loss: 2.773 - 3s 6ms/step - loss: 2.7794 - val_loss: 3.5158\n",
      "\n",
      "Epoch 00013: ReduceLROnPlateau reducing learning rate to 0.0005000000237487257.\n",
      "Epoch 14/1000\n",
      "599/599 [==============================] - 3s 6ms/step - loss: 0.8553 - val_loss: 0.4014\n",
      "Epoch 15/1000\n",
      "599/599 [==============================] - 3s 6ms/step - loss: 0.7132 - val_loss: 0.4491\n",
      "Epoch 16/1000\n",
      "599/599 [==============================] - 3s 6ms/step - loss: 0.7038 - val_loss: 0.6804\n",
      "Epoch 17/1000\n",
      "599/599 [==============================] - 3s 6ms/step - loss: 1.0206 - val_loss: 0.5009\n",
      "\n",
      "Epoch 00017: ReduceLROnPlateau reducing learning rate to 0.0002500000118743628.\n",
      "Epoch 18/1000\n",
      "599/599 [==============================] - 3s 6ms/step - loss: 0.4105 - val_loss: 0.2678\n",
      "Epoch 19/1000\n",
      "599/599 [==============================] - 4s 6ms/step - loss: 0.4531 - val_loss: 0.2790\n",
      "Epoch 20/1000\n",
      "599/599 [==============================] - 4s 6ms/step - loss: 0.4341 - val_loss: 0.2839\n",
      "Epoch 21/1000\n",
      "599/599 [==============================] - 3s 6ms/step - loss: 0.4357 - val_loss: 1.1078\n",
      "\n",
      "Epoch 00021: ReduceLROnPlateau reducing learning rate to 0.0001250000059371814.\n",
      "Epoch 22/1000\n",
      "599/599 [==============================] - 3s 6ms/step - loss: 0.3464 - val_loss: 0.3882\n",
      "Epoch 23/1000\n",
      "599/599 [==============================] - 3s 6ms/step - loss: 0.2938 - val_loss: 0.2851\n",
      "Epoch 24/1000\n",
      "599/599 [==============================] - 4s 6ms/step - loss: 0.2822 - val_loss: 0.2443\n",
      "Epoch 25/1000\n",
      "599/599 [==============================] - 4s 6ms/step - loss: 0.2956 - val_loss: 0.2840\n",
      "Epoch 26/1000\n",
      "599/599 [==============================] - 4s 6ms/step - loss: 0.3045 - val_loss: 0.2663\n",
      "Epoch 27/1000\n",
      "599/599 [==============================] - 4s 6ms/step - loss: 0.3069 - val_loss: 0.2459\n",
      "\n",
      "Epoch 00027: ReduceLROnPlateau reducing learning rate to 6.25000029685907e-05.\n",
      "Epoch 28/1000\n",
      "599/599 [==============================] - 4s 6ms/step - loss: 0.2523 - val_loss: 0.2956\n",
      "Epoch 29/1000\n",
      "599/599 [==============================] - 3s 6ms/step - loss: 0.2666 - val_loss: 0.2315\n",
      "Epoch 30/1000\n",
      "599/599 [==============================] - 3s 6ms/step - loss: 0.2543 - val_loss: 0.2609\n",
      "Epoch 31/1000\n",
      "599/599 [==============================] - 4s 6ms/step - loss: 0.2470 - val_loss: 0.2505\n",
      "Epoch 32/1000\n",
      "599/599 [==============================] - 3s 6ms/step - loss: 0.2555 - val_loss: 0.2470\n",
      "\n",
      "Epoch 00032: ReduceLROnPlateau reducing learning rate to 3.125000148429535e-05.\n",
      "Epoch 33/1000\n",
      "599/599 [==============================] - 4s 6ms/step - loss: 0.2404 - val_loss: 0.2735\n",
      "Epoch 34/1000\n",
      "599/599 [==============================] - 4s 6ms/step - loss: 0.2396 - val_loss: 0.2549\n",
      "Epoch 35/1000\n",
      "599/599 [==============================] - 3s 6ms/step - loss: 0.2357 - val_loss: 0.2342\n",
      "\n",
      "Epoch 00035: ReduceLROnPlateau reducing learning rate to 1.5625000742147677e-05.\n",
      "Epoch 36/1000\n",
      "599/599 [==============================] - 4s 6ms/step - loss: 0.2263 - val_loss: 0.2324\n",
      "Epoch 37/1000\n",
      "599/599 [==============================] - 3s 6ms/step - loss: 0.2284 - val_loss: 0.2271\n",
      "Epoch 38/1000\n",
      "599/599 [==============================] - 3s 6ms/step - loss: 0.2273 - val_loss: 0.2289\n",
      "Epoch 39/1000\n",
      "599/599 [==============================] - 3s 6ms/step - loss: 0.2277 - val_loss: 0.2343\n",
      "Epoch 40/1000\n",
      "599/599 [==============================] - 3s 6ms/step - loss: 0.2279 - val_loss: 0.2292\n",
      "\n",
      "Epoch 00040: ReduceLROnPlateau reducing learning rate to 1e-05.\n",
      "Epoch 41/1000\n",
      "599/599 [==============================] - 4s 7ms/step - loss: 0.2235 - val_loss: 0.2262\n",
      "Epoch 42/1000\n",
      "599/599 [==============================] - 4s 7ms/step - loss: 0.2239 - val_loss: 0.2271\n",
      "Epoch 43/1000\n",
      "599/599 [==============================] - 4s 6ms/step - loss: 0.2239 - val_loss: 0.2259\n",
      "Epoch 44/1000\n",
      "599/599 [==============================] - 4s 7ms/step - loss: 0.2237 - val_loss: 0.2253\n",
      "Epoch 45/1000\n",
      "599/599 [==============================] - 4s 6ms/step - loss: 0.2242 - val_loss: 0.2269\n",
      "Epoch 46/1000\n",
      "599/599 [==============================] - 4s 7ms/step - loss: 0.2234 - val_loss: 0.2256\n",
      "Epoch 47/1000\n",
      "599/599 [==============================] - 4s 7ms/step - loss: 0.2231 - val_loss: 0.2272\n",
      "Epoch 48/1000\n",
      "599/599 [==============================] - 4s 6ms/step - loss: 0.2229 - val_loss: 0.2298\n",
      "Epoch 49/1000\n",
      "599/599 [==============================] - 4s 6ms/step - loss: 0.2219 - val_loss: 0.2256\n",
      "Epoch 50/1000\n",
      "599/599 [==============================] - 4s 7ms/step - loss: 0.2234 - val_loss: 0.2260\n",
      "Epoch 51/1000\n",
      "599/599 [==============================] - 4s 6ms/step - loss: 0.2225 - val_loss: 0.2286\n",
      "Epoch 52/1000\n",
      "599/599 [==============================] - 4s 6ms/step - loss: 0.2232 - val_loss: 0.2257\n",
      "Epoch 53/1000\n",
      "599/599 [==============================] - 4s 6ms/step - loss: 0.2210 - val_loss: 0.2324\n",
      "Epoch 54/1000\n",
      "599/599 [==============================] - 4s 6ms/step - loss: 0.2219 - val_loss: 0.2258\n",
      "Epoch 55/1000\n",
      "599/599 [==============================] - 4s 6ms/step - loss: 0.2212 - val_loss: 0.2263\n",
      "Restoring model weights from the end of the best epoch.\n",
      "Epoch 00055: early stopping\n"
     ]
    },
    {
     "data": {
      "image/png": "[encoded data removed]",
      "text/plain": [
       "<Figure size 432x288 with 1 Axes>"
      ]
     },
     "metadata": {
      "needs_background": "light"
     },
     "output_type": "display_data"
    },
    {
     "data": {
      "image/png": "[encoded data removed]",
      "text/plain": [
       "<Figure size 432x288 with 1 Axes>"
      ]
     },
     "metadata": {
      "needs_background": "light"
     },
     "output_type": "display_data"
    },
    {
     "name": "stderr",
     "output_type": "stream",
     "text": [
      "2022-10-25 02:26:58.357759: I tensorflow/core/grappler/optimizers/custom_graph_optimizer_registry.cc:112] Plugin optimizer for device_type GPU is enabled.\n"
     ]
    },
    {
     "name": "stdout",
     "output_type": "stream",
     "text": [
      "RMSPE : 0.24309704699707682\n"
     ]
    }
   ],
   "source": [
    "import numpy as np\n",
    "import pandas as pd\n",
    "import tensorflow as tf\n",
    "import tensorflow.keras.backend as K\n",
    "import matplotlib.pyplot as plt\n",
    "import pandas as pd\n",
    "\n",
    "from tensorflow import keras\n",
    "from keras.models import Model\n",
    "from sklearn.preprocessing import StandardScaler\n",
    "\n",
    "def rmspe(y_true, y_pred):\n",
    "    return K.sqrt(K.mean(K.square((y_true-y_pred)/y_true)))\n",
    "\n",
    "X_train = pd.read_pickle('./397/X_train_base.pkl').astype(float)\n",
    "y_train = pd.read_pickle('./397/y_train_base.pkl').astype(float)\n",
    "X_val = pd.read_pickle('./397/X_val_base.pkl').astype(float)\n",
    "y_val = pd.read_pickle('./397/y_val_base.pkl').astype(float)\n",
    "X_test = pd.read_pickle('./397/X_test_base.pkl').astype(float)\n",
    "y_test = pd.read_pickle('./397/y_test_base.pkl').astype(float)\n",
    "\n",
    "scaler = StandardScaler()\n",
    "X_train = scaler.fit_transform(X_train)\n",
    "X_val = scaler.fit_transform(X_val)\n",
    "X_test = scaler.fit_transform(X_test)\n",
    "X_train.shape[1]\n",
    "\n",
    "inputs= tf.keras.Input(\n",
    "        shape=(X_train.shape[1],)\n",
    "    )\n",
    "hidden1=tf.keras.layers.Dense(\n",
    "        units=int(np.round(X_train.shape[1]/2, 0)),\n",
    "        kernel_initializer='he_uniform',\n",
    "        activation='LeakyReLU'\n",
    "    )(inputs)\n",
    "hidden2=tf.keras.layers.Dense(\n",
    "        units=int(np.round(X_train.shape[1]/4, 0)),\n",
    "        kernel_initializer='he_uniform',\n",
    "        activation='LeakyReLU'\n",
    "    )(hidden1)\n",
    "outputs=tf.keras.layers.Dense(\n",
    "        units=1,\n",
    ")(hidden2)\n",
    "\n",
    "model = Model(inputs, outputs)\n",
    "model.summary()\n",
    "\n",
    "model.compile(optimizer=tf.keras.optimizers.Adam(0.001),\n",
    "              loss=rmspe)\n",
    "              \n",
    "rlr = tf.keras.callbacks.ReduceLROnPlateau(monitor='val_loss', factor=0.5, patience=3, min_delta=1e-5, min_lr=1e-5, verbose=1)\n",
    "es = tf.keras.callbacks.EarlyStopping(monitor='val_loss', min_delta=1e-5, patience=11, restore_best_weights=True, verbose=1)\n",
    "callback_list = [rlr, es]\n",
    "history = model.fit(X_train, y_train,\n",
    "                    batch_size=500, epochs=1000, verbose=1,\n",
    "                    validation_data=(X_val, y_val), callbacks=callback_list\n",
    ")\n",
    "pd.DataFrame(history.history)\n",
    "epochs=np.arange(1, len(history.history['loss'])+1)\n",
    "plt.plot(epochs, history.history['loss'], label='training loss')\n",
    "plt.plot(epochs, history.history['val_loss'], label='validation loss')\n",
    "plt.xlabel('Epochs')\n",
    "plt.ylabel('Loss')\n",
    "plt.legend()\n",
    "plt.show()\n",
    "\n",
    "epochs=np.arange(2, len(history.history['loss'])+1)\n",
    "plt.plot(epochs, history.history['loss'][1:], label='training loss')\n",
    "plt.plot(epochs, history.history['val_loss'][1:], label='validation loss')\n",
    "plt.xlabel('Epochs')\n",
    "plt.ylabel('Loss')\n",
    "plt.legend()\n",
    "plt.show()\n",
    "\n",
    "a = np.array([]).reshape(0, 1)\n",
    "\n",
    "for x in range (1, 42):\n",
    "    length = int((X_test.shape[0] / 41))\n",
    "    test = X_test[length*(x-1):length*(x)]\n",
    "    \n",
    "    y_hat = model.predict(test)\n",
    "    #print(y_hat)\n",
    "    a = np.append(a, y_hat)\n",
    "\n",
    "result_rmspe = np.sqrt(np.mean(np.square(((a - y_test) / y_test)), axis=0))\n",
    "print('RMSPE :', result_rmspe)\n",
    "    "
   ]
  },
  {
   "cell_type": "markdown",
   "metadata": {},
   "source": [
    "# Parameter Tuning"
   ]
  },
  {
   "cell_type": "code",
   "execution_count": 2,
   "metadata": {},
   "outputs": [],
   "source": [
    "def rmspe(y_true, y_pred):\n",
    "    return K.sqrt(K.mean(K.square((y_true-y_pred)/y_true)))"
   ]
  },
  {
   "cell_type": "code",
   "execution_count": 29,
   "metadata": {},
   "outputs": [
    {
     "data": {
      "text/plain": [
       "array([  0, 198, 397])"
      ]
     },
     "execution_count": 29,
     "metadata": {},
     "output_type": "execute_result"
    }
   ],
   "source": [
    "first_neuron = X_train.shape[1]\n",
    "neuron = 2\n",
    "hidden = 3\n",
    "\n",
    "neuron_list = np.round(np.linspace(0, fit_, layer), 0).astype(int)\n",
    "neuron_list"
   ]
  },
  {
   "cell_type": "code",
   "execution_count": 16,
   "metadata": {},
   "outputs": [
    {
     "name": "stdout",
     "output_type": "stream",
     "text": [
      "0\n",
      "1\n"
     ]
    }
   ],
   "source": [
    "for x in range(2):\n",
    "    print(x)"
   ]
  },
  {
   "cell_type": "code",
   "execution_count": 3,
   "metadata": {},
   "outputs": [],
   "source": [
    "def build_model (train_set, n_hidden=2, n_neurons=3, learning_rate=0.01):\n",
    "\n",
    "    input_shape = train_set.shape[1]\n",
    "\n",
    "    model = tf.keras.models.Sequential()\n",
    "\n",
    "    model.add(tf.keras.layers.InputLayer(input_shape=input_shape))\n",
    "\n",
    "    for layer in range(n_hidden):\n",
    "        model.add(tf.keras.layers.Dense(\n",
    "            units = n_neurons,\n",
    "            kernel_initializer='he_uniform',\n",
    "            activation='LeakyReLU'\n",
    "        ))\n",
    "\n",
    "    model.add(tf.keras.layers.Dense(\n",
    "        units=1\n",
    "    ))\n",
    "\n",
    "    model.compile(optimizer=tf.keras.optimizers.Adam(learning_rate),\n",
    "                loss=rmspe)\n",
    "\n",
    "    return model\n"
   ]
  },
  {
   "cell_type": "code",
   "execution_count": 4,
   "metadata": {},
   "outputs": [],
   "source": [
    "X_train = pd.read_pickle('./397/X_train_tf.pkl').astype(float)\n",
    "y_train = pd.read_pickle('./397/y_train_tf.pkl').astype(float)\n",
    "X_val = pd.read_pickle('./397/X_val_tf.pkl').astype(float)\n",
    "y_val = pd.read_pickle('./397/y_val_tf.pkl').astype(float)\n",
    "X_test = pd.read_pickle('./397/X_test_tf.pkl').astype(float)\n",
    "y_test = pd.read_pickle('./397/y_test_tf.pkl').astype(float)\n",
    "\n",
    "scaler = StandardScaler()\n",
    "X_train = scaler.fit_transform(X_train)\n",
    "X_val = scaler.fit_transform(X_val)\n",
    "X_test = scaler.fit_transform(X_test)\n"
   ]
  },
  {
   "cell_type": "code",
   "execution_count": 5,
   "metadata": {},
   "outputs": [
    {
     "name": "stdout",
     "output_type": "stream",
     "text": [
      "Metal device set to: Apple M1\n",
      "\n",
      "systemMemory: 16.00 GB\n",
      "maxCacheSize: 5.33 GB\n",
      "\n",
      "Model: \"sequential\"\n",
      "_________________________________________________________________\n",
      "Layer (type)                 Output Shape              Param #   \n",
      "=================================================================\n",
      "dense (Dense)                (None, 3)                 1194      \n",
      "_________________________________________________________________\n",
      "dense_1 (Dense)              (None, 3)                 12        \n",
      "_________________________________________________________________\n",
      "dense_2 (Dense)              (None, 1)                 4         \n",
      "=================================================================\n",
      "Total params: 1,210\n",
      "Trainable params: 1,210\n",
      "Non-trainable params: 0\n",
      "_________________________________________________________________\n"
     ]
    },
    {
     "name": "stderr",
     "output_type": "stream",
     "text": [
      "2022-10-28 15:33:13.358080: I tensorflow/core/common_runtime/pluggable_device/pluggable_device_factory.cc:305] Could not identify NUMA node of platform GPU ID 0, defaulting to 0. Your kernel may not have been built with NUMA support.\n",
      "2022-10-28 15:33:13.358244: I tensorflow/core/common_runtime/pluggable_device/pluggable_device_factory.cc:271] Created TensorFlow device (/job:localhost/replica:0/task:0/device:GPU:0 with 0 MB memory) -> physical PluggableDevice (device: 0, name: METAL, pci bus id: <undefined>)\n"
     ]
    }
   ],
   "source": [
    "build_model(X_train).summary()"
   ]
  },
  {
   "cell_type": "markdown",
   "metadata": {},
   "source": []
  },
  {
   "cell_type": "code",
   "execution_count": 8,
   "metadata": {},
   "outputs": [],
   "source": [
    "rlr = tf.keras.callbacks.ReduceLROnPlateau(monitor='val_loss', factor=0.5, patience=3, min_delta=1e-5, min_lr=1e-5, verbose=1)\n",
    "es = tf.keras.callbacks.EarlyStopping(monitor='val_loss', min_delta=1e-5, patience=11, restore_best_weights=True, verbose=1)\n",
    "callback_list = [rlr, es]"
   ]
  },
  {
   "cell_type": "code",
   "execution_count": 9,
   "metadata": {},
   "outputs": [],
   "source": [
    "from scikeras.wrappers import KerasRegressor\n",
    "keras_regressor = KerasRegressor(build_model, train_set=X_train, n_hidden=1, n_neurons=100, learning_rate=0.01)\n",
    "\n",
    "from sklearn.model_selection import GridSearchCV\n",
    "\n",
    "parameters={\n",
    "    'n_hidden':[1, 2, 3],\n",
    "    'n_neurons':[100, 200, 300]\n",
    "            }\n",
    "\n",
    "keras_regressor_search = GridSearchCV(keras_regressor, param_grid=parameters, cv=3, refit=True)\n",
    "\n"
   ]
  },
  {
   "cell_type": "code",
   "execution_count": 23,
   "metadata": {},
   "outputs": [
    {
     "data": {
      "text/plain": [
       "{'n_hidden': [1, 2, 3], 'n_neurons': [100, 200, 300]}"
      ]
     },
     "execution_count": 23,
     "metadata": {},
     "output_type": "execute_result"
    }
   ],
   "source": [
    "keras_regressor_search.param_grid"
   ]
  },
  {
   "cell_type": "code",
   "execution_count": 10,
   "metadata": {},
   "outputs": [
    {
     "ename": "ValueError",
     "evalue": "Invalid parameter fit for estimator GridSearchCV(cv=3,\n             estimator=KerasRegressor(learning_rate=0.01, model=<function build_model at 0x28d7de550>, n_hidden=1, n_neurons=100, train_set=array([[-1.36412775, -1.36341492,  0.133776  , ..., -0.69904194,\n         0.79283588,  0.41639624],\n       [-1.65941306, -1.6573919 ,  0.48237182, ..., -0.80065274,\n         0.35373098,  0.08137937],\n       [ 0.65119448,  0.64547804, -0.48118753, ..., -0.57619882,\n         3.12373906,  2.79337836],\n       ...,\n       [ 1.54443253,  1.55129718,  0.4577698 , ...,  1.09886239,\n        -0.79834187, -0.98116245],\n       [ 0.57737315,  0.57599297, -0.12024844, ...,  0.15062149,\n        -0.55691501, -0.47507203],\n       [ 0.35590917,  0.35069094, -0.47949512, ..., -0.33089206,\n         0.48079957,  0.33372784]])),\n             param_grid={'n_hidden': [1, 2, 3], 'n_neurons': [100, 200, 300]}). Check the list of available parameters with `estimator.get_params().keys()`.",
     "output_type": "error",
     "traceback": [
      "\u001b[0;31m---------------------------------------------------------------------------\u001b[0m",
      "\u001b[0;31mValueError\u001b[0m                                Traceback (most recent call last)",
      "\u001b[0;32m/var/folders/0k/zyr795gx3hl6x1nytrrntcnc0000gn/T/ipykernel_50043/1748219342.py\u001b[0m in \u001b[0;36m<module>\u001b[0;34m\u001b[0m\n\u001b[0;32m----> 1\u001b[0;31m keras_regressor_search.set_params(fit__epochs=1000, fit__batch_size=500,\n\u001b[0m\u001b[1;32m      2\u001b[0m                                   \u001b[0mfit__validation_data\u001b[0m\u001b[0;34m=\u001b[0m\u001b[0;34m(\u001b[0m\u001b[0mX_val\u001b[0m\u001b[0;34m,\u001b[0m \u001b[0my_val\u001b[0m\u001b[0;34m)\u001b[0m\u001b[0;34m,\u001b[0m\u001b[0;34m\u001b[0m\u001b[0;34m\u001b[0m\u001b[0m\n\u001b[1;32m      3\u001b[0m                                   \u001b[0mfit__callbacks\u001b[0m\u001b[0;34m=\u001b[0m\u001b[0;34m[\u001b[0m\u001b[0mrlr\u001b[0m\u001b[0;34m,\u001b[0m \u001b[0mes\u001b[0m\u001b[0;34m]\u001b[0m\u001b[0;34m,\u001b[0m\u001b[0;34m\u001b[0m\u001b[0;34m\u001b[0m\u001b[0m\n\u001b[1;32m      4\u001b[0m                                   fit__verbose=2)\n",
      "\u001b[0;32m/opt/homebrew/Caskroom/miniforge/base/envs/tensorflow/lib/python3.8/site-packages/sklearn/base.py\u001b[0m in \u001b[0;36mset_params\u001b[0;34m(self, **params)\u001b[0m\n\u001b[1;32m    238\u001b[0m             \u001b[0mkey\u001b[0m\u001b[0;34m,\u001b[0m \u001b[0mdelim\u001b[0m\u001b[0;34m,\u001b[0m \u001b[0msub_key\u001b[0m \u001b[0;34m=\u001b[0m \u001b[0mkey\u001b[0m\u001b[0;34m.\u001b[0m\u001b[0mpartition\u001b[0m\u001b[0;34m(\u001b[0m\u001b[0;34m\"__\"\u001b[0m\u001b[0;34m)\u001b[0m\u001b[0;34m\u001b[0m\u001b[0;34m\u001b[0m\u001b[0m\n\u001b[1;32m    239\u001b[0m             \u001b[0;32mif\u001b[0m \u001b[0mkey\u001b[0m \u001b[0;32mnot\u001b[0m \u001b[0;32min\u001b[0m \u001b[0mvalid_params\u001b[0m\u001b[0;34m:\u001b[0m\u001b[0;34m\u001b[0m\u001b[0;34m\u001b[0m\u001b[0m\n\u001b[0;32m--> 240\u001b[0;31m                 raise ValueError(\n\u001b[0m\u001b[1;32m    241\u001b[0m                     \u001b[0;34m\"Invalid parameter %s for estimator %s. \"\u001b[0m\u001b[0;34m\u001b[0m\u001b[0;34m\u001b[0m\u001b[0m\n\u001b[1;32m    242\u001b[0m                     \u001b[0;34m\"Check the list of available parameters \"\u001b[0m\u001b[0;34m\u001b[0m\u001b[0;34m\u001b[0m\u001b[0m\n",
      "\u001b[0;31mValueError\u001b[0m: Invalid parameter fit for estimator GridSearchCV(cv=3,\n             estimator=KerasRegressor(learning_rate=0.01, model=<function build_model at 0x28d7de550>, n_hidden=1, n_neurons=100, train_set=array([[-1.36412775, -1.36341492,  0.133776  , ..., -0.69904194,\n         0.79283588,  0.41639624],\n       [-1.65941306, -1.6573919 ,  0.48237182, ..., -0.80065274,\n         0.35373098,  0.08137937],\n       [ 0.65119448,  0.64547804, -0.48118753, ..., -0.57619882,\n         3.12373906,  2.79337836],\n       ...,\n       [ 1.54443253,  1.55129718,  0.4577698 , ...,  1.09886239,\n        -0.79834187, -0.98116245],\n       [ 0.57737315,  0.57599297, -0.12024844, ...,  0.15062149,\n        -0.55691501, -0.47507203],\n       [ 0.35590917,  0.35069094, -0.47949512, ..., -0.33089206,\n         0.48079957,  0.33372784]])),\n             param_grid={'n_hidden': [1, 2, 3], 'n_neurons': [100, 200, 300]}). Check the list of available parameters with `estimator.get_params().keys()`."
     ]
    }
   ],
   "source": [
    "keras_regressor_search.set_params(fit__epochs=1000, fit__batch_size=500,\n",
    "                                  fit__validation_data=(X_val, y_val),\n",
    "                                  fit__callbacks=[rlr, es],\n",
    "                                  fit__verbose=2)"
   ]
  }
 ],
 "metadata": {
  "kernelspec": {
   "display_name": "Python 3.8.12 ('tensorflow')",
   "language": "python",
   "name": "python3"
  },
  "language_info": {
   "codemirror_mode": {
    "name": "ipython",
    "version": 3
   },
   "file_extension": ".py",
   "mimetype": "text/x-python",
   "name": "python",
   "nbconvert_exporter": "python",
   "pygments_lexer": "ipython3",
   "version": "3.8.12"
  },
  "orig_nbformat": 4,
  "vscode": {
   "interpreter": {
    "hash": "4bd624a0593993fe43ac4046b27b898fb2ef75c21c08f81e89e64ea0f51df676"
   }
  }
 },
 "nbformat": 4,
 "nbformat_minor": 2
}
