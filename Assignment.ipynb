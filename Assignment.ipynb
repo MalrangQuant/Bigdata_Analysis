{
 "cells": [
  {
   "cell_type": "markdown",
   "metadata": {},
   "source": [
    "# 과제2 Code"
   ]
  },
  {
   "cell_type": "code",
   "execution_count": 80,
   "metadata": {},
   "outputs": [],
   "source": [
    "import pandas as pd\n",
    "import numpy as np\n",
    "import matplotlib.pyplot as plt\n",
    "import seaborn as sns\n",
    "\n",
    "from sklearn.preprocessing import StandardScaler\n",
    "from sklearn.model_selection import train_test_split\n",
    "\n",
    "from sklearn.linear_model import LogisticRegression\n",
    "from sklearn.feature_selection import RFECV\n",
    "from sklearn.ensemble import GradientBoostingClassifier\n",
    "from sklearn.model_selection import StratifiedKFold, RandomizedSearchCV\n",
    "from imblearn.pipeline import Pipeline\n",
    "from imblearn.under_sampling import RandomUnderSampler\n",
    "from sklearn.metrics import confusion_matrix, f1_score\n"
   ]
  },
  {
   "cell_type": "code",
   "execution_count": 81,
   "metadata": {},
   "outputs": [
    {
     "data": {
      "text/plain": [
       "((227845, 29), (56962, 29), (227845,), (56962,))"
      ]
     },
     "execution_count": 81,
     "metadata": {},
     "output_type": "execute_result"
    }
   ],
   "source": [
    "creditdata = pd.read_csv('./Data/creditcard.csv')\n",
    "\n",
    "y = creditdata[\"Class\"]\n",
    "X = creditdata.loc[:, creditdata.columns != 'Class']\n",
    "X = X.drop('Time', axis=1)\n",
    "\n",
    "X_scaled = StandardScaler().fit_transform(X)\n",
    "X_train, X_test, y_train, y_test = train_test_split(X_scaled, y, test_size=0.2, random_state=123, stratify=y)\n",
    "X_train.shape, X_test.shape, y_train.shape, y_test.shape"
   ]
  },
  {
   "cell_type": "code",
   "execution_count": 82,
   "metadata": {},
   "outputs": [
    {
     "name": "stdout",
     "output_type": "stream",
     "text": [
      "사기 거래 갯수 :  492 \n",
      " 정상 거래 갯수 :  284315 \n",
      " 사기 비율 :  0.001727485630620034\n"
     ]
    }
   ],
   "source": [
    "print('사기 거래 갯수 : ', (y == 1).sum(), '\\n', '정상 거래 갯수 : ', (y==0).sum(), '\\n', '사기 비율 : ', (y == 1).sum() / len(y))"
   ]
  },
  {
   "cell_type": "code",
   "execution_count": 86,
   "metadata": {},
   "outputs": [
    {
     "name": "stdout",
     "output_type": "stream",
     "text": [
      "Fitting 3 folds for each of 10 candidates, totalling 30 fits\n",
      "[CV 1/3] END gb__learning_rate=0.01, gb__max_depth=2, gb__n_estimators=250, oss__sampling_strategy=0.003;, score=0.769 total time= 2.5min\n",
      "[CV 2/3] END gb__learning_rate=0.01, gb__max_depth=2, gb__n_estimators=250, oss__sampling_strategy=0.003;, score=0.806 total time= 9.1min\n",
      "[CV 3/3] END gb__learning_rate=0.01, gb__max_depth=2, gb__n_estimators=250, oss__sampling_strategy=0.003;, score=0.769 total time=154.9min\n",
      "[CV 1/3] END gb__learning_rate=0.02, gb__max_depth=2, gb__n_estimators=250, oss__sampling_strategy=0.005;, score=0.853 total time=89.0min\n",
      "[CV 2/3] END gb__learning_rate=0.02, gb__max_depth=2, gb__n_estimators=250, oss__sampling_strategy=0.005;, score=0.792 total time=24.6min\n",
      "[CV 3/3] END gb__learning_rate=0.02, gb__max_depth=2, gb__n_estimators=250, oss__sampling_strategy=0.005;, score=0.777 total time=150.0min\n",
      "[CV 1/3] END gb__learning_rate=0.02, gb__max_depth=2, gb__n_estimators=100, oss__sampling_strategy=0.005;, score=0.829 total time=101.8min\n",
      "[CV 2/3] END gb__learning_rate=0.02, gb__max_depth=2, gb__n_estimators=100, oss__sampling_strategy=0.005;, score=0.816 total time=73.0min\n",
      "[CV 3/3] END gb__learning_rate=0.02, gb__max_depth=2, gb__n_estimators=100, oss__sampling_strategy=0.005;, score=0.782 total time=84.7min\n",
      "[CV 1/3] END gb__learning_rate=0.02, gb__max_depth=4, gb__n_estimators=250, oss__sampling_strategy=0.005;, score=0.775 total time=192.0min\n",
      "[CV 2/3] END gb__learning_rate=0.02, gb__max_depth=4, gb__n_estimators=250, oss__sampling_strategy=0.005;, score=0.769 total time=93.2min\n"
     ]
    }
   ],
   "source": [
    "n_estimator = [50, 100, 150, 200, 250, 300]\n",
    "learning_rate = [0.01, 0.02]\n",
    "max_depth = [2, 4]\n",
    "imbalance_y_ratio = [0.003, 0.004, 0.005, 0.01]\n",
    "\n",
    "param_grid = dict(oss__sampling_strategy = imbalance_y_ratio,\n",
    "                  gb__n_estimators = n_estimator,\n",
    "                  gb__max_depth = max_depth,\n",
    "                  gb__learning_rate = learning_rate)\n",
    "\n",
    "kf = StratifiedKFold(n_splits=3)\n",
    "\n",
    "GBmodel = Pipeline(\n",
    "    [('oss', RandomUnderSampler()),\n",
    "     ('fs', RFECV(LogisticRegression(), cv=5)),\n",
    "     ('gb', GradientBoostingClassifier())]\n",
    ")\n",
    "\n",
    "grid = RandomizedSearchCV(estimator=GBmodel, param_distributions=param_grid, verbose=3, scoring='f1', cv=kf)\n",
    "\n",
    "grid_result = grid.fit(X_train, y_train)\n",
    "\n",
    "scores_df = pd.DataFrame(grid_result.cv_results_)\n",
    "scores_df.head()\n",
    "\n",
    "best_param = grid_result.best_params_\n",
    "best_param"
   ]
  },
  {
   "cell_type": "code",
   "execution_count": null,
   "metadata": {},
   "outputs": [
    {
     "name": "stdout",
     "output_type": "stream",
     "text": [
      "f1 score = 0.7486033519553073\n"
     ]
    },
    {
     "data": {
      "image/png": "[encoded data removed]",
      "text/plain": [
       "<Figure size 640x480 with 1 Axes>"
      ]
     },
     "metadata": {},
     "output_type": "display_data"
    }
   ],
   "source": [
    "RUS = RandomUnderSampler(sampling_strategy=best_param['oss__sampling_strategy'])\n",
    "\n",
    "UX, Uy = RUS.fit_resample(X_train, y_train)\n",
    "\n",
    "model = LogisticRegression()\n",
    "rfecv = RFECV(model, cv=5)\n",
    "rfecvfit = rfecv.fit(UX, Uy)\n",
    "\n",
    "X_train_rfecvfit = UX[:, rfecvfit.get_support()]\n",
    "X_test_rfecvfit = X_test[:, rfecvfit.get_support()]\n",
    "y_train_rfecvfit = Uy\n",
    "y_test_rfecvfit = y_test\n",
    "  \n",
    "gb_final = GradientBoostingClassifier(n_estimators = best_param['gb__n_estimators'],\\\n",
    "                                      max_depth = best_param['gb__max_depth'],\\\n",
    "                                      learning_rate = best_param['gb__learning_rate'])\n",
    "\n",
    "gb_final.fit(X_train_rfecvfit, y_train_rfecvfit)\n",
    "\n",
    "fimp = pd.Series(gb_final.feature_importances_, index=X.columns[rfecvfit.get_support()]).sort_values(ascending=True)\n",
    "plt.barh(fimp.index, fimp.values)\n",
    "\n",
    "y_pred3 = gb_final.predict(X_test_rfecvfit)\n",
    "confusion_matrix(y_test, y_pred3)\n",
    "\n",
    "print(f'f1 score = {f1_score(y_test, y_pred3)}')"
   ]
  }
 ],
 "metadata": {
  "kernelspec": {
   "display_name": "Python 3.8.13 ('quant')",
   "language": "python",
   "name": "python3"
  },
  "language_info": {
   "codemirror_mode": {
    "name": "ipython",
    "version": 3
   },
   "file_extension": ".py",
   "mimetype": "text/x-python",
   "name": "python",
   "nbconvert_exporter": "python",
   "pygments_lexer": "ipython3",
   "version": "3.8.13"
  },
  "orig_nbformat": 4,
  "vscode": {
   "interpreter": {
    "hash": "e7b6214bfe3ce19b2336b5ee82fe9739f68968628bd5eb86b17deae08d37c2fd"
   }
  }
 },
 "nbformat": 4,
 "nbformat_minor": 2
}
