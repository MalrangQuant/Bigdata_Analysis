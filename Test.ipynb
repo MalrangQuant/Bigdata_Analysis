{
 "cells": [
  {
   "cell_type": "code",
   "execution_count": 1,
   "metadata": {},
   "outputs": [],
   "source": [
    "from sklearn.tree import DecisionTreeClassifier\n",
    "from sklearn.datasets import load_iris\n",
    "from sklearn.model_selection import train_test_split\n",
    "from warnings import filterwarnings\n",
    "filterwarnings('ignore')"
   ]
  },
  {
   "cell_type": "code",
   "execution_count": 11,
   "metadata": {},
   "outputs": [
    {
     "name": "stdout",
     "output_type": "stream",
     "text": [
      "\u001b[33mDEPRECATION: Configuring installation scheme with distutils config files is deprecated and will no longer work in the near future. If you are using a Homebrew or Linuxbrew Python, please see discussion at https://github.com/Homebrew/homebrew-core/issues/76621\u001b[0m\u001b[33m\n",
      "\u001b[0m\u001b[31mERROR: Could not find a version that satisfies the requirement graphviz-python (from versions: none)\u001b[0m\u001b[31m\n",
      "\u001b[0m\u001b[31mERROR: No matching distribution found for graphviz-python\u001b[0m\u001b[31m\n",
      "\u001b[0m\u001b[33mWARNING: There was an error checking the latest version of pip.\u001b[0m\u001b[33m\n",
      "\u001b[0m"
     ]
    }
   ],
   "source": [
    "!pip install graphviz-python"
   ]
  },
  {
   "cell_type": "code",
   "execution_count": 4,
   "metadata": {},
   "outputs": [
    {
     "data": {
      "text/html": [
       "<style>#sk-container-id-1 {color: black;background-color: white;}#sk-container-id-1 pre{padding: 0;}#sk-container-id-1 div.sk-toggleable {background-color: white;}#sk-container-id-1 label.sk-toggleable__label {cursor: pointer;display: block;width: 100%;margin-bottom: 0;padding: 0.3em;box-sizing: border-box;text-align: center;}#sk-container-id-1 label.sk-toggleable__label-arrow:before {content: \"▸\";float: left;margin-right: 0.25em;color: #696969;}#sk-container-id-1 label.sk-toggleable__label-arrow:hover:before {color: black;}#sk-container-id-1 div.sk-estimator:hover label.sk-toggleable__label-arrow:before {color: black;}#sk-container-id-1 div.sk-toggleable__content {max-height: 0;max-width: 0;overflow: hidden;text-align: left;background-color: #f0f8ff;}#sk-container-id-1 div.sk-toggleable__content pre {margin: 0.2em;color: black;border-radius: 0.25em;background-color: #f0f8ff;}#sk-container-id-1 input.sk-toggleable__control:checked~div.sk-toggleable__content {max-height: 200px;max-width: 100%;overflow: auto;}#sk-container-id-1 input.sk-toggleable__control:checked~label.sk-toggleable__label-arrow:before {content: \"▾\";}#sk-container-id-1 div.sk-estimator input.sk-toggleable__control:checked~label.sk-toggleable__label {background-color: #d4ebff;}#sk-container-id-1 div.sk-label input.sk-toggleable__control:checked~label.sk-toggleable__label {background-color: #d4ebff;}#sk-container-id-1 input.sk-hidden--visually {border: 0;clip: rect(1px 1px 1px 1px);clip: rect(1px, 1px, 1px, 1px);height: 1px;margin: -1px;overflow: hidden;padding: 0;position: absolute;width: 1px;}#sk-container-id-1 div.sk-estimator {font-family: monospace;background-color: #f0f8ff;border: 1px dotted black;border-radius: 0.25em;box-sizing: border-box;margin-bottom: 0.5em;}#sk-container-id-1 div.sk-estimator:hover {background-color: #d4ebff;}#sk-container-id-1 div.sk-parallel-item::after {content: \"\";width: 100%;border-bottom: 1px solid gray;flex-grow: 1;}#sk-container-id-1 div.sk-label:hover label.sk-toggleable__label {background-color: #d4ebff;}#sk-container-id-1 div.sk-serial::before {content: \"\";position: absolute;border-left: 1px solid gray;box-sizing: border-box;top: 0;bottom: 0;left: 50%;z-index: 0;}#sk-container-id-1 div.sk-serial {display: flex;flex-direction: column;align-items: center;background-color: white;padding-right: 0.2em;padding-left: 0.2em;position: relative;}#sk-container-id-1 div.sk-item {position: relative;z-index: 1;}#sk-container-id-1 div.sk-parallel {display: flex;align-items: stretch;justify-content: center;background-color: white;position: relative;}#sk-container-id-1 div.sk-item::before, #sk-container-id-1 div.sk-parallel-item::before {content: \"\";position: absolute;border-left: 1px solid gray;box-sizing: border-box;top: 0;bottom: 0;left: 50%;z-index: -1;}#sk-container-id-1 div.sk-parallel-item {display: flex;flex-direction: column;z-index: 1;position: relative;background-color: white;}#sk-container-id-1 div.sk-parallel-item:first-child::after {align-self: flex-end;width: 50%;}#sk-container-id-1 div.sk-parallel-item:last-child::after {align-self: flex-start;width: 50%;}#sk-container-id-1 div.sk-parallel-item:only-child::after {width: 0;}#sk-container-id-1 div.sk-dashed-wrapped {border: 1px dashed gray;margin: 0 0.4em 0.5em 0.4em;box-sizing: border-box;padding-bottom: 0.4em;background-color: white;}#sk-container-id-1 div.sk-label label {font-family: monospace;font-weight: bold;display: inline-block;line-height: 1.2em;}#sk-container-id-1 div.sk-label-container {text-align: center;}#sk-container-id-1 div.sk-container {/* jupyter's `normalize.less` sets `[hidden] { display: none; }` but bootstrap.min.css set `[hidden] { display: none !important; }` so we also need the `!important` here to be able to override the default hidden behavior on the sphinx rendered scikit-learn.org. See: https://github.com/scikit-learn/scikit-learn/issues/21755 */display: inline-block !important;position: relative;}#sk-container-id-1 div.sk-text-repr-fallback {display: none;}</style><div id=\"sk-container-id-1\" class=\"sk-top-container\"><div class=\"sk-text-repr-fallback\"><pre>DecisionTreeClassifier(random_state=111)</pre><b>In a Jupyter environment, please rerun this cell to show the HTML representation or trust the notebook. <br />On GitHub, the HTML representation is unable to render, please try loading this page with nbviewer.org.</b></div><div class=\"sk-container\" hidden><div class=\"sk-item\"><div class=\"sk-estimator sk-toggleable\"><input class=\"sk-toggleable__control sk-hidden--visually\" id=\"sk-estimator-id-1\" type=\"checkbox\" checked><label for=\"sk-estimator-id-1\" class=\"sk-toggleable__label sk-toggleable__label-arrow\">DecisionTreeClassifier</label><div class=\"sk-toggleable__content\"><pre>DecisionTreeClassifier(random_state=111)</pre></div></div></div></div></div>"
      ],
      "text/plain": [
       "DecisionTreeClassifier(random_state=111)"
      ]
     },
     "execution_count": 4,
     "metadata": {},
     "output_type": "execute_result"
    }
   ],
   "source": [
    "dt_clf = DecisionTreeClassifier(random_state=111)\n",
    "\n",
    "iris_data = load_iris()\n",
    "X_train, X_test, y_train, y_test = train_test_split(iris_data.data, iris_data.target, test_size=0.2, random_state=11)\n",
    "\n",
    "dt_clf.fit(X_train, y_train)"
   ]
  },
  {
   "cell_type": "code",
   "execution_count": 5,
   "metadata": {},
   "outputs": [],
   "source": [
    "from sklearn.tree import export_graphviz\n",
    "\n",
    "export_graphviz(dt_clf, out_file='tree.dot', class_names=iris_data.target_names, feature_names=iris_data.feature_names, impurity=True, filled=True)"
   ]
  },
  {
   "cell_type": "code",
   "execution_count": 8,
   "metadata": {},
   "outputs": [
    {
     "name": "stdout",
     "output_type": "stream",
     "text": [
      "Collecting package metadata (current_repodata.json): done\n",
      "Solving environment: done\n",
      "\n",
      "## Package Plan ##\n",
      "\n",
      "  environment location: /opt/homebrew/Caskroom/miniforge/base\n",
      "\n",
      "  added / updated specs:\n",
      "    - graphviz\n",
      "\n",
      "\n",
      "The following packages will be downloaded:\n",
      "\n",
      "    package                    |            build\n",
      "    ---------------------------|-----------------\n",
      "    certifi-2022.9.24          |   py39hca03da5_0         155 KB\n",
      "    conda-22.9.0               |   py39hca03da5_0         875 KB\n",
      "    expat-2.4.9                |       hc377ac9_0         127 KB\n",
      "    gdk-pixbuf-2.42.8          |       hb4bb6b2_0         532 KB\n",
      "    graphviz-2.50.0            |       he1da451_0         2.3 MB\n",
      "    harfbuzz-4.3.0             |       hb1b0ec1_0        1005 KB\n",
      "    libgd-2.3.3                |       h14f8a72_1         200 KB\n",
      "    librsvg-2.54.4             |       h6a74ff0_0         4.3 MB\n",
      "    libwebp-base-1.2.4         |       h1a28f6b_0         259 KB\n",
      "    llvm-openmp-14.0.6         |       hc6e5704_0         253 KB\n",
      "    pango-1.50.7               |       h7271ec9_0         402 KB\n",
      "    toolz-0.11.2               |     pyhd3eb1b0_0          49 KB\n",
      "    ------------------------------------------------------------\n",
      "                                           Total:        10.3 MB\n",
      "\n",
      "The following NEW packages will be INSTALLED:\n",
      "\n",
      "  cairo              pkgs/main/osx-arm64::cairo-1.16.0-h29d4eff_2\n",
      "  expat              pkgs/main/osx-arm64::expat-2.4.9-hc377ac9_0\n",
      "  font-ttf-dejavu-s~ pkgs/main/noarch::font-ttf-dejavu-sans-mono-2.37-hd3eb1b0_0\n",
      "  font-ttf-inconsol~ pkgs/main/noarch::font-ttf-inconsolata-2.001-hcb22688_0\n",
      "  font-ttf-source-c~ pkgs/main/noarch::font-ttf-source-code-pro-2.030-hd3eb1b0_0\n",
      "  font-ttf-ubuntu    pkgs/main/noarch::font-ttf-ubuntu-0.83-h8b1ccd4_0\n",
      "  fontconfig         pkgs/main/osx-arm64::fontconfig-2.13.1-h1f4a5ec_0\n",
      "  fonts-anaconda     pkgs/main/noarch::fonts-anaconda-1-h8fa9717_0\n",
      "  fonts-conda-ecosy~ pkgs/main/noarch::fonts-conda-ecosystem-1-hd3eb1b0_0\n",
      "  freetype           pkgs/main/osx-arm64::freetype-2.11.0-h1192e45_0\n",
      "  fribidi            pkgs/main/osx-arm64::fribidi-1.0.10-h1a28f6b_0\n",
      "  gdk-pixbuf         pkgs/main/osx-arm64::gdk-pixbuf-2.42.8-hb4bb6b2_0\n",
      "  gettext            pkgs/main/osx-arm64::gettext-0.21.0-h826f4ad_0\n",
      "  glib               pkgs/main/osx-arm64::glib-2.69.1-h98b2900_1\n",
      "  graphite2          pkgs/main/osx-arm64::graphite2-1.3.14-hc377ac9_1\n",
      "  graphviz           pkgs/main/osx-arm64::graphviz-2.50.0-he1da451_0\n",
      "  gts                pkgs/main/osx-arm64::gts-0.7.6-hde733a8_3\n",
      "  harfbuzz           pkgs/main/osx-arm64::harfbuzz-4.3.0-hb1b0ec1_0\n",
      "  icu                pkgs/main/osx-arm64::icu-68.1-hc377ac9_0\n",
      "  jpeg               pkgs/main/osx-arm64::jpeg-9e-h1a28f6b_0\n",
      "  lerc               pkgs/main/osx-arm64::lerc-3.0-hc377ac9_0\n",
      "  libdeflate         pkgs/main/osx-arm64::libdeflate-1.8-h1a28f6b_5\n",
      "  libgd              pkgs/main/osx-arm64::libgd-2.3.3-h14f8a72_1\n",
      "  libiconv           pkgs/main/osx-arm64::libiconv-1.16-h1a28f6b_2\n",
      "  libpng             pkgs/main/osx-arm64::libpng-1.6.37-hb8d0fd4_0\n",
      "  librsvg            pkgs/main/osx-arm64::librsvg-2.54.4-h6a74ff0_0\n",
      "  libtiff            pkgs/main/osx-arm64::libtiff-4.4.0-had003b8_0\n",
      "  libtool            pkgs/main/osx-arm64::libtool-2.4.6-hc377ac9_1008\n",
      "  libwebp-base       pkgs/main/osx-arm64::libwebp-base-1.2.4-h1a28f6b_0\n",
      "  libxml2            pkgs/main/osx-arm64::libxml2-2.9.14-h8c5e841_0\n",
      "  llvm-openmp        pkgs/main/osx-arm64::llvm-openmp-14.0.6-hc6e5704_0\n",
      "  lz4-c              pkgs/main/osx-arm64::lz4-c-1.9.3-hc377ac9_0\n",
      "  pango              pkgs/main/osx-arm64::pango-1.50.7-h7271ec9_0\n",
      "  pcre               pkgs/main/osx-arm64::pcre-8.45-hc377ac9_0\n",
      "  pixman             pkgs/main/osx-arm64::pixman-0.40.0-h1a28f6b_0\n",
      "  toolz              pkgs/main/noarch::toolz-0.11.2-pyhd3eb1b0_0\n",
      "  zstd               pkgs/main/osx-arm64::zstd-1.5.2-h8574219_0\n",
      "\n",
      "The following packages will be UPDATED:\n",
      "\n",
      "  ca-certificates                      2022.4.26-hca03da5_0 --> 2022.07.19-hca03da5_0\n",
      "  certifi                        2022.5.18.1-py39hca03da5_0 --> 2022.9.24-py39hca03da5_0\n",
      "  conda                               4.13.0-py39hca03da5_0 --> 22.9.0-py39hca03da5_0\n",
      "  openssl                                 1.1.1o-h1a28f6b_0 --> 1.1.1q-h1a28f6b_0\n",
      "\n",
      "\n",
      "\n",
      "Downloading and Extracting Packages\n",
      "graphviz-2.50.0      | 2.3 MB    | ##################################### | 100% \n",
      "llvm-openmp-14.0.6   | 253 KB    | ##################################### | 100% \n",
      "libgd-2.3.3          | 200 KB    | ##################################### | 100% \n",
      "toolz-0.11.2         | 49 KB     | ##################################### | 100% \n",
      "expat-2.4.9          | 127 KB    | ##################################### | 100% \n",
      "conda-22.9.0         | 875 KB    | ##################################### | 100% \n",
      "certifi-2022.9.24    | 155 KB    | ##################################### | 100% \n",
      "libwebp-base-1.2.4   | 259 KB    | ##################################### | 100% \n",
      "harfbuzz-4.3.0       | 1005 KB   | ##################################### | 100% \n",
      "gdk-pixbuf-2.42.8    | 532 KB    | ##################################### | 100% \n",
      "pango-1.50.7         | 402 KB    | ##################################### | 100% \n",
      "librsvg-2.54.4       | 4.3 MB    | ##################################### | 100% \n",
      "Preparing transaction: done\n",
      "Verifying transaction: done\n",
      "Executing transaction: done\n"
     ]
    }
   ],
   "source": [
    "!conda install graphviz -y"
   ]
  },
  {
   "cell_type": "code",
   "execution_count": 9,
   "metadata": {},
   "outputs": [
    {
     "ename": "ModuleNotFoundError",
     "evalue": "No module named 'graphviz'",
     "output_type": "error",
     "traceback": [
      "\u001b[0;31m---------------------------------------------------------------------------\u001b[0m",
      "\u001b[0;31mModuleNotFoundError\u001b[0m                       Traceback (most recent call last)",
      "\u001b[1;32m/Users/Sun/Documents/Github/Bigdata_Financial/Test.ipynb 셀 6\u001b[0m in \u001b[0;36m<cell line: 1>\u001b[0;34m()\u001b[0m\n\u001b[0;32m----> <a href='vscode-notebook-cell:/Users/Sun/Documents/Github/Bigdata_Financial/Test.ipynb#X10sZmlsZQ%3D%3D?line=0'>1</a>\u001b[0m \u001b[39mimport\u001b[39;00m \u001b[39mgraphviz\u001b[39;00m\n\u001b[1;32m      <a href='vscode-notebook-cell:/Users/Sun/Documents/Github/Bigdata_Financial/Test.ipynb#X10sZmlsZQ%3D%3D?line=2'>3</a>\u001b[0m \u001b[39mwith\u001b[39;00m \u001b[39mopen\u001b[39m(\u001b[39m'\u001b[39m\u001b[39mtree.dot\u001b[39m\u001b[39m'\u001b[39m) \u001b[39mas\u001b[39;00m f:\n\u001b[1;32m      <a href='vscode-notebook-cell:/Users/Sun/Documents/Github/Bigdata_Financial/Test.ipynb#X10sZmlsZQ%3D%3D?line=3'>4</a>\u001b[0m     dot_graph \u001b[39m=\u001b[39m f\u001b[39m.\u001b[39mread()\n",
      "\u001b[0;31mModuleNotFoundError\u001b[0m: No module named 'graphviz'"
     ]
    }
   ],
   "source": [
    "import graphviz\n",
    "\n",
    "with open('tree.dot') as f:\n",
    "    dot_graph = f.read()\n",
    "\n",
    "graphviz.Source(dot_graph)"
   ]
  }
 ],
 "metadata": {
  "kernelspec": {
   "display_name": "quant",
   "language": "python",
   "name": "quant"
  },
  "language_info": {
   "codemirror_mode": {
    "name": "ipython",
    "version": 3
   },
   "file_extension": ".py",
   "mimetype": "text/x-python",
   "name": "python",
   "nbconvert_exporter": "python",
   "pygments_lexer": "ipython3",
   "version": "3.8.13"
  },
  "orig_nbformat": 4,
  "vscode": {
   "interpreter": {
    "hash": "4bd624a0593993fe43ac4046b27b898fb2ef75c21c08f81e89e64ea0f51df676"
   }
  }
 },
 "nbformat": 4,
 "nbformat_minor": 2
}
